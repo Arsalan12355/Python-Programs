{
 "cells": [
  {
   "cell_type": "code",
   "execution_count": 4,
   "id": "a776a600",
   "metadata": {},
   "outputs": [
    {
     "name": "stdout",
     "output_type": "stream",
     "text": [
      "Twinkle, twinkle, little star, \n",
      "\tHow I wonder what you are! \n",
      "\t\tUp above the world so high, \n",
      "\t\tLike a diamond in the sky. \n",
      "Twinkle, twinkle, little star, \n",
      "\tHow I wonder what you are!\n"
     ]
    }
   ],
   "source": [
    "#Q1 Write a Python program to print the following string in a specific format (see the output).\n",
    "#  Twinkle, twinkle, little star......\n",
    "\n",
    "print(\"Twinkle, twinkle, little star, \\n\\tHow I wonder what you are! \\n\\t\\tUp above the world so high, \\n\\t\\tLike a diamond in the sky. \\nTwinkle, twinkle, little star, \\n\\tHow I wonder what you are!\") "
   ]
  },
  {
   "cell_type": "code",
   "execution_count": 10,
   "id": "836a5a44",
   "metadata": {},
   "outputs": [
    {
     "name": "stdout",
     "output_type": "stream",
     "text": [
      "Python version\n",
      "3.8.8 (default, Apr 13 2021, 15:08:03) [MSC v.1916 64 bit (AMD64)]\n"
     ]
    }
   ],
   "source": [
    "#Q2 (Write a Python program to get the Python version you are using)\n",
    "\n",
    "import sys\n",
    "print(\"Python version\")\n",
    "print (sys.version)"
   ]
  },
  {
   "cell_type": "code",
   "execution_count": 9,
   "id": "e28f8b73",
   "metadata": {},
   "outputs": [
    {
     "name": "stdout",
     "output_type": "stream",
     "text": [
      "Current date and time: \n",
      "08:00:27 on Friday, October the 22th, 2021\n"
     ]
    }
   ],
   "source": [
    "#Q3 (Write a Python program to display the current date and time.)\n",
    "\n",
    "import datetime\n",
    "now = datetime.datetime.now()\n",
    "\n",
    "print(\"Current date and time: \")\n",
    "print(now.strftime('%H:%M:%S on %A, %B the %dth, %Y'))"
   ]
  },
  {
   "cell_type": "code",
   "execution_count": 13,
   "id": "94689632",
   "metadata": {},
   "outputs": [
    {
     "name": "stdout",
     "output_type": "stream",
     "text": [
      "Input the radius of the circle : 2\n",
      "The area of the circle with radius 2.0 is: 12.566370614359172\n"
     ]
    }
   ],
   "source": [
    "#Q4 (Write a Python program which accepts the radius of a circle from the user and compute the area.)\n",
    "\n",
    "from math import pi\n",
    "r = float(input (\"Input the radius of the circle : \"))\n",
    "print (\"The area of the circle with radius \" + str(r) + \" is: \" + str(pi * r**2))\n"
   ]
  },
  {
   "cell_type": "code",
   "execution_count": 20,
   "id": "dfd8011b",
   "metadata": {},
   "outputs": [
    {
     "name": "stdout",
     "output_type": "stream",
     "text": [
      "Enter Your First Name: Arsalan\n",
      "Enter Your Last Name: Ahmed\n",
      "Ahmed Arsalan\n"
     ]
    }
   ],
   "source": [
    "#Q5 (Write a Python program which accepts the user's first and last name and print them in \n",
    "#    reverse order with a space between them.)\n",
    "\n",
    "f_name =input(\"Enter Your First Name: \")\n",
    "l_name =input(\"Enter Your Last Name: \")\n",
    "print(l_name+\" \"+f_name)"
   ]
  },
  {
   "cell_type": "code",
   "execution_count": 27,
   "id": "237341b3",
   "metadata": {},
   "outputs": [
    {
     "name": "stdout",
     "output_type": "stream",
     "text": [
      "Enter Your First Digit no: 2\n",
      "Enter Your Second Digit no: 6\n",
      "Addition:  8\n"
     ]
    }
   ],
   "source": [
    "#Q6 (Write a python program which takes two inputs from user and print them addition)\n",
    "\n",
    "a = int(input(\"Enter Your First Digit no: \"))\n",
    "b = int(input(\"Enter Your Second Digit no: \"))\n",
    "sum = a+b\n",
    "print(\"Addition: \",sum)"
   ]
  },
  {
   "cell_type": "code",
   "execution_count": 40,
   "id": "d91cb0b2",
   "metadata": {},
   "outputs": [
    {
     "name": "stdout",
     "output_type": "stream",
     "text": [
      "Enter the marks of five subjects::\n",
      "Enter Your Math Marks: 50\n",
      "Enter Your Science Marks: 50\n",
      "Enter Your Islamiat Marks: 56\n",
      "Enter Your English Marks: 78\n",
      "Enter your Computer Marks: 65\n",
      "\n",
      "The Total marks is:   \t 299.0 / 500.00\n",
      "\n",
      "The Percentage is:    \t 59.8 %\n",
      "\n",
      "The Grade is:         \t D\n"
     ]
    }
   ],
   "source": [
    "#Q7 Write a program which takes 5 inputs from user for different subject’s marks, total it\n",
    "#   and generate mark sheet using grades ?\n",
    "\n",
    "print(\"Enter the marks of five subjects::\")\n",
    "\n",
    "sub1 = float (input (\"Enter Your Math Marks: \"))\n",
    "sub2 = float (input (\"Enter Your Science Marks: \"))\n",
    "sub3 = float (input (\"Enter Your Islamiat Marks: \"))\n",
    "sub4 = float (input (\"Enter Your English Marks: \"))\n",
    "sub5 = float (input (\"Enter your Computer Marks: \"))\n",
    "\n",
    "\n",
    "# It will calculate the Total, Average and Percentage\n",
    "total = sub1 + sub2 + sub3 + sub4 + sub5\n",
    "per = (total / 500) * 100\n",
    "\n",
    "if per >= 90:\n",
    "    grade = 'A+'\n",
    "elif per >= 80 and per < 90:\n",
    "    grade = 'A'\n",
    "elif per >= 70 and per < 80:\n",
    "    grade = 'B'\n",
    "elif per >= 60 and per < 70:\n",
    "    grade = 'C'\n",
    "elif per >= 50 and per < 60:\n",
    "    grade = 'D'\n",
    "else:\n",
    "    grade = 'E'\n",
    "\n",
    "# It will produce the final output\n",
    "print (\"\\nThe Total marks is:   \\t\", total, \"/ 500.00\")\n",
    "print (\"\\nThe Percentage is:    \\t\", per, \"%\")\n",
    "print (\"\\nThe Grade is:         \\t\", grade)"
   ]
  },
  {
   "cell_type": "code",
   "execution_count": 43,
   "id": "f30d5f0c",
   "metadata": {},
   "outputs": [
    {
     "name": "stdout",
     "output_type": "stream",
     "text": [
      "Enter a number: 34\n",
      "34 is Even\n"
     ]
    }
   ],
   "source": [
    "#Q8 Write a program which take input from user and identify that the given number is even\n",
    "# or odd?\n",
    "\n",
    "num = int(input(\"Enter a number: \"))\n",
    "if (num % 2) == 0:\n",
    "   print(\"{0} is Even\".format(num))\n",
    "else:\n",
    "   print(\"{0} is Odd\".format(num))"
   ]
  },
  {
   "cell_type": "code",
   "execution_count": 47,
   "id": "19706197",
   "metadata": {},
   "outputs": [
    {
     "name": "stdout",
     "output_type": "stream",
     "text": [
      "5\n"
     ]
    }
   ],
   "source": [
    "#Q9 Write a program which print the length of the list?\n",
    "\n",
    "lst = ['Python','Java','Kotlin','Machine Learning','Keras']\n",
    "Length = len(lst)\n",
    "print(Length)"
   ]
  },
  {
   "cell_type": "code",
   "execution_count": 58,
   "id": "c96e515a",
   "metadata": {},
   "outputs": [
    {
     "name": "stdout",
     "output_type": "stream",
     "text": [
      "17\n"
     ]
    }
   ],
   "source": [
    "#10.Write a Python program to sum all the numeric items in a list?\n",
    "\n",
    "def sum(numbers):\n",
    "    total = 0\n",
    "    for x in numbers:\n",
    "        total += x\n",
    "    return total\n",
    "print(sum((3, 2, 3,3, 6)))"
   ]
  },
  {
   "cell_type": "code",
   "execution_count": 59,
   "id": "03708bb2",
   "metadata": {},
   "outputs": [
    {
     "name": "stdout",
     "output_type": "stream",
     "text": [
      "Largest element is: 99\n"
     ]
    }
   ],
   "source": [
    "#Q11 Write a Python program to get the largest number from a numeric list.\n",
    "\n",
    "list1 = [10, 20, 4, 45, 99]\n",
    "list1.sort()\n",
    "print(\"Largest element is:\", list1[-1])"
   ]
  },
  {
   "cell_type": "code",
   "execution_count": 64,
   "id": "d5652b3b",
   "metadata": {},
   "outputs": [
    {
     "name": "stdout",
     "output_type": "stream",
     "text": [
      "1\n",
      "1\n",
      "2\n",
      "3\n"
     ]
    }
   ],
   "source": [
    "#Q12 Take a list, say for example this one: a = [1, 1, 2, 3, 5, 8, 13, 21, 34, 55, 89]\n",
    "# Write a program that prints out all the elements of the list that are less than 5.\n",
    "\n",
    "lst = [1, 1, 2, 3, 5, 8, 13, 21, 34, 55, 89]\n",
    "\n",
    "for i in lst:\n",
    "    if i < 5:\n",
    "        print(i)"
   ]
  },
  {
   "cell_type": "code",
   "execution_count": null,
   "id": "8fb6d10a",
   "metadata": {},
   "outputs": [],
   "source": []
  },
  {
   "cell_type": "code",
   "execution_count": null,
   "id": "78c6a17d",
   "metadata": {},
   "outputs": [],
   "source": []
  }
 ],
 "metadata": {
  "kernelspec": {
   "display_name": "Python 3",
   "language": "python",
   "name": "python3"
  },
  "language_info": {
   "codemirror_mode": {
    "name": "ipython",
    "version": 3
   },
   "file_extension": ".py",
   "mimetype": "text/x-python",
   "name": "python",
   "nbconvert_exporter": "python",
   "pygments_lexer": "ipython3",
   "version": "3.8.8"
  }
 },
 "nbformat": 4,
 "nbformat_minor": 5
}
