{
 "cells": [
  {
   "cell_type": "code",
   "execution_count": 1,
   "id": "9e61f071",
   "metadata": {},
   "outputs": [
    {
     "name": "stdout",
     "output_type": "stream",
     "text": [
      "Twinkle, twinkle, little star, \n",
      "\tHow I wonder what you are! \n",
      "\t\tUp above the world so high, \n",
      "\t\tLike a diamond in the sky. \n",
      "Twinkle, twinkle, little star, \n",
      "\tHow I wonder what you are!\n"
     ]
    }
   ],
   "source": [
    "#Q1 Write a Python program to print the following string in a specific format (see the output).\n",
    "#  Twinkle, twinkle, little star......\n",
    "\n",
    "print(\"Twinkle, twinkle, little star, \\n\\tHow I wonder what you are! \\n\\t\\tUp above the world so high, \\n\\t\\tLike a diamond in the sky. \\nTwinkle, twinkle, little star, \\n\\tHow I wonder what you are!\") "
   ]
  },
  {
   "cell_type": "code",
   "execution_count": 2,
   "id": "fe6b8821",
   "metadata": {},
   "outputs": [
    {
     "name": "stdout",
     "output_type": "stream",
     "text": [
      "Python version\n",
      "3.8.8 (default, Apr 13 2021, 15:08:03) [MSC v.1916 64 bit (AMD64)]\n"
     ]
    }
   ],
   "source": [
    "#Q2 (Write a Python program to get the Python version you are using)\n",
    "\n",
    "import sys\n",
    "print(\"Python version\")\n",
    "print (sys.version)"
   ]
  },
  {
   "cell_type": "code",
   "execution_count": 3,
   "id": "fe07212f",
   "metadata": {},
   "outputs": [
    {
     "name": "stdout",
     "output_type": "stream",
     "text": [
      "Current date and time: \n",
      "14:39:04 on Sunday, January the 02th, 2022\n"
     ]
    }
   ],
   "source": [
    "#Q3 (Write a Python program to display the current date and time.)\n",
    "\n",
    "import datetime\n",
    "now = datetime.datetime.now()\n",
    "\n",
    "print(\"Current date and time: \")\n",
    "print(now.strftime('%H:%M:%S on %A, %B the %dth, %Y'))"
   ]
  },
  {
   "cell_type": "code",
   "execution_count": 5,
   "id": "ff4b42f5",
   "metadata": {},
   "outputs": [
    {
     "name": "stdout",
     "output_type": "stream",
     "text": [
      "Input the radius of the circle : 3\n",
      "The area of the circle with radius 3.0 is: 28.274333882308138\n"
     ]
    }
   ],
   "source": [
    "#Q4 (Write a Python program which accepts the radius of a circle from the user and compute the area.)\n",
    "\n",
    "from math import pi\n",
    "r = float(input (\"Input the radius of the circle : \"))\n",
    "print (\"The area of the circle with radius \" + str(r) + \" is: \" + str(pi * r**2))\n"
   ]
  },
  {
   "cell_type": "code",
   "execution_count": 1,
   "id": "4f4c6ea8",
   "metadata": {},
   "outputs": [
    {
     "name": "stdout",
     "output_type": "stream",
     "text": [
      "Enter Your First Name: Arsalan\n",
      "Enter Your Last Name: Ahmed\n",
      "Ahmed Arsalan\n"
     ]
    }
   ],
   "source": [
    "#Q5 (Write a Python program which accepts the user's first and last name and print them in \n",
    "#    reverse order with a space between them.)\n",
    "\n",
    "f_name =input(\"Enter Your First Name: \")\n",
    "l_name =input(\"Enter Your Last Name: \")\n",
    "print(l_name+\" \"+f_name)"
   ]
  },
  {
   "cell_type": "code",
   "execution_count": 2,
   "id": "97584b42",
   "metadata": {},
   "outputs": [
    {
     "name": "stdout",
     "output_type": "stream",
     "text": [
      "Enter Your First Digit no: 3\n",
      "Enter Your Second Digit no: 4\n",
      "Addition:  7\n"
     ]
    }
   ],
   "source": [
    "#Q6 (Write a python program which takes two inputs from user and print them addition)\n",
    "\n",
    "a = int(input(\"Enter Your First Digit no: \"))\n",
    "b = int(input(\"Enter Your Second Digit no: \"))\n",
    "sum = a+b\n",
    "print(\"Addition: \",sum)"
   ]
  },
  {
   "cell_type": "code",
   "execution_count": null,
   "id": "def1f395",
   "metadata": {},
   "outputs": [],
   "source": []
  }
 ],
 "metadata": {
  "kernelspec": {
   "display_name": "Python 3",
   "language": "python",
   "name": "python3"
  },
  "language_info": {
   "codemirror_mode": {
    "name": "ipython",
    "version": 3
   },
   "file_extension": ".py",
   "mimetype": "text/x-python",
   "name": "python",
   "nbconvert_exporter": "python",
   "pygments_lexer": "ipython3",
   "version": "3.8.8"
  }
 },
 "nbformat": 4,
 "nbformat_minor": 5
}
