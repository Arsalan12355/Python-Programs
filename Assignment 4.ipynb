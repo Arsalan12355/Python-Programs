{
 "cells": [
  {
   "cell_type": "code",
   "execution_count": 8,
   "id": "a5f96c49",
   "metadata": {},
   "outputs": [
    {
     "name": "stdout",
     "output_type": "stream",
     "text": [
      "Please select operation -\n",
      "1. Add\n",
      "2. Subtract\n",
      "3. Multiply\n",
      "4. Divide\n",
      "5. Power\n",
      "\n",
      "Select operations form 1, 2, 3, 4, 5 :1\n",
      "Enter first number: 5\n",
      "Enter second number: 5\n",
      "5 + 5 = 10\n",
      "Select operations form 1, 2, 3, 4, 5 :5\n",
      "Enter base value5\n",
      "Enter exponent value2\n",
      "5 power 2 = 25\n",
      "Select operations form 1, 2, 3, 4, 5 :6\n",
      "Invalid input\n"
     ]
    }
   ],
   "source": [
    "# Question 1\n",
    "\n",
    "def add(num1, num2):\n",
    "    return num1 + num2\n",
    "  \n",
    "# Function to subtract two numbers \n",
    "def subtract(num1, num2):\n",
    "    return num1 - num2\n",
    "  \n",
    "# Function to multiply two numbers\n",
    "def multiply(num1, num2):\n",
    "    return num1 * num2\n",
    "  \n",
    "# Function to divide two numbers\n",
    "def divide(num1, num2):\n",
    "    return num1 / num2\n",
    "\n",
    "  \n",
    "print(\"Please select operation -\\n\" \\\n",
    "        \"1. Add\\n\" \\\n",
    "        \"2. Subtract\\n\" \\\n",
    "        \"3. Multiply\\n\" \\\n",
    "        \"4. Divide\\n\" \\\n",
    "        \"5. Power\\n\")\n",
    "  \n",
    "while True:\n",
    "    select = int(input(\"Select operations form 1, 2, 3, 4, 5 :\"))\n",
    "    \n",
    "    if select == 1:\n",
    "        number_1 = int(input(\"Enter first number: \"))\n",
    "        number_2 = int(input(\"Enter second number: \"))\n",
    "        print(number_1, \"+\", number_2, \"=\",\n",
    "                    add(number_1, number_2))\n",
    "  \n",
    "    elif select == 2:\n",
    "        number_1 = int(input(\"Enter first number: \"))\n",
    "        number_2 = int(input(\"Enter second number: \"))\n",
    "        print(number_1, \"-\", number_2, \"=\",\n",
    "                    subtract(number_1, number_2))\n",
    "  \n",
    "    elif select == 3:\n",
    "        number_1 = int(input(\"Enter first number: \"))\n",
    "        number_2 = int(input(\"Enter second number: \"))\n",
    "        print(number_1, \"*\", number_2, \"=\",\n",
    "                    multiply(number_1, number_2))\n",
    "  \n",
    "    elif select == 4:\n",
    "        number_1 = int(input(\"Enter first number: \"))\n",
    "        number_2 = int(input(\"Enter second number: \"))\n",
    "        print(number_1, \"/\", number_2, \"=\",\n",
    "                    divide(number_1, number_2))\n",
    "    elif select == 5:\n",
    "        number_1 = int(input(\"Enter base value\"))\n",
    "        number_2 = int(input(\"Enter exponent value\"))\n",
    "        print(number_1,\"power\", number_2, \"=\",\n",
    "                       pow(number_1,  number_2))\n",
    "        \n",
    "        \n",
    "    \n",
    "    else:\n",
    "        print(\"Invalid input\")\n",
    "        break"
   ]
  },
  {
   "cell_type": "code",
   "execution_count": 5,
   "id": "1bd9c1b3",
   "metadata": {},
   "outputs": [
    {
     "name": "stdout",
     "output_type": "stream",
     "text": [
      "11\n",
      "43\n",
      "54\n",
      "54\n"
     ]
    }
   ],
   "source": [
    "# Question 2\n",
    "\n",
    "list = [11, 34.1, 98.2, 43, 45.1, 54, 54]\n",
    "\n",
    "for x in list:\n",
    "    if int(x) == x:\n",
    "        print(x)"
   ]
  },
  {
   "cell_type": "code",
   "execution_count": 4,
   "id": "124b74f4",
   "metadata": {},
   "outputs": [
    {
     "name": "stdout",
     "output_type": "stream",
     "text": [
      "Current Dict is:  {'key1': 'Jawan', 'key2': 'Pakistan'}\n",
      "Updated Dict is:  {'key1': 'Jawan', 'key2': 'Python', 'key3': 'Flutter'}\n"
     ]
    }
   ],
   "source": [
    "# Question 3\n",
    "# A dictionary in Python is a collection of items that store data as key-value pairs. \n",
    "# We can access and manipulate dictionary items based on their key. \n",
    "# Dictionaries are mutable and allow us to add new items to them.\n",
    "\n",
    "dict = {'key1':'Jawan', 'key2':'Pakistan'}\n",
    "print(\"Current Dict is: \", dict)\n",
    "  \n",
    "# using the subscript notation\n",
    "# Dictionary_Name[New_Key_Name] = New_Key_Value\n",
    "dict['key2'] = 'Python'\n",
    "dict['key3'] = 'Flutter'\n",
    "print(\"Updated Dict is: \", dict)"
   ]
  },
  {
   "cell_type": "code",
   "execution_count": 6,
   "id": "64f375ed",
   "metadata": {},
   "outputs": [
    {
     "name": "stdout",
     "output_type": "stream",
     "text": [
      "60\n"
     ]
    }
   ],
   "source": [
    "# Question 4\n",
    "\n",
    "my_dict = {'item1':10,'item2':20,'item3':30}\n",
    "print(sum(my_dict.values()))\n"
   ]
  },
  {
   "cell_type": "code",
   "execution_count": 7,
   "id": "7f388a41",
   "metadata": {},
   "outputs": [
    {
     "name": "stdout",
     "output_type": "stream",
     "text": [
      "2 3 5 4 6 "
     ]
    }
   ],
   "source": [
    "# Question 5\n",
    "\n",
    "list1=[1,2,3,4,5,2,3,8,5,4,6,7,9,6]\n",
    "list2=[]\n",
    "for i in list1:\n",
    "    if i not in list2:\n",
    "        list2.append(i)\n",
    "    else:\n",
    "        print(i,end=' ')"
   ]
  },
  {
   "cell_type": "code",
   "execution_count": 2,
   "id": "9c79eb98",
   "metadata": {},
   "outputs": [
    {
     "name": "stdout",
     "output_type": "stream",
     "text": [
      "Enter key to check:B\n",
      "Key is present and value of the key is:\n",
      "2\n",
      "Enter key to check:C\n",
      "Key is present and value of the key is:\n",
      "3\n",
      "Enter key to check:A\n",
      "Key is present and value of the key is:\n",
      "1\n",
      "Enter key to check:D\n",
      "Key isn't present!\n"
     ]
    }
   ],
   "source": [
    "# Question 6\n",
    "\n",
    "d={'A':1,'B':2,'C':3}\n",
    "while True:\n",
    "    key=input(\"Enter key to check:\")\n",
    "    if key in d.keys():\n",
    "        print(\"Key is present and value of the key is:\")\n",
    "        print(d[key])\n",
    "    else:\n",
    "        print(\"Key isn't present!\")\n",
    "        break"
   ]
  },
  {
   "cell_type": "code",
   "execution_count": null,
   "id": "00792b63",
   "metadata": {},
   "outputs": [],
   "source": []
  }
 ],
 "metadata": {
  "kernelspec": {
   "display_name": "Python 3",
   "language": "python",
   "name": "python3"
  },
  "language_info": {
   "codemirror_mode": {
    "name": "ipython",
    "version": 3
   },
   "file_extension": ".py",
   "mimetype": "text/x-python",
   "name": "python",
   "nbconvert_exporter": "python",
   "pygments_lexer": "ipython3",
   "version": "3.8.8"
  }
 },
 "nbformat": 4,
 "nbformat_minor": 5
}
